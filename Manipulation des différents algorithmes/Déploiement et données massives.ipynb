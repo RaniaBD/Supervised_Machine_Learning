{
 "cells": [
  {
   "cell_type": "markdown",
   "metadata": {},
   "source": [
    "## Déploiement et données massives\n",
    "#### RANIA BEN DHIA <rania.ben.dhia@etu.univ-poitiers.fr>\t\n",
    "#### MARWAN AL OMARI <marwan.al.omari@etu.univ-poitiers.fr>"
   ]
  },
  {
   "cell_type": "code",
   "execution_count": 6,
   "metadata": {},
   "outputs": [],
   "source": [
    "import warnings\n",
    "warnings.filterwarnings('ignore')"
   ]
  },
  {
   "cell_type": "markdown",
   "metadata": {},
   "source": [
    "## Utilisation de Orange en langage script"
   ]
  },
  {
   "cell_type": "code",
   "execution_count": 7,
   "metadata": {},
   "outputs": [
    {
     "name": "stdout",
     "output_type": "stream",
     "text": [
      "Collecting package metadata (current_repodata.json): ...working... done\n",
      "Solving environment: ...working... done\n",
      "\n",
      "# All requested packages already installed.\n",
      "\n",
      "\n",
      "Note: you may need to restart the kernel to use updated packages.\n"
     ]
    }
   ],
   "source": [
    "conda install -c ales-erjavec orange3"
   ]
  },
  {
   "cell_type": "code",
   "execution_count": 8,
   "metadata": {},
   "outputs": [
    {
     "name": "stdout",
     "output_type": "stream",
     "text": [
      "\n",
      "Attributes: \n",
      "Attributes: Alcohol, Malic Acid, Ash, Alcalinity of ash, Magnesium, Total phenols, Flavanoids, Nonflavanoid phenols, Proanthocyanins, Color intensity, Hue, OD280/OD315 of diluted wines, Proline\n",
      "\n",
      "le nom de la classe cible: \n",
      "Class: Wine\n",
      "\n",
      "le nombre d’échantillons: \n",
      "Data instances 178\n"
     ]
    }
   ],
   "source": [
    "#importer le package Orange\n",
    "import Orange\n",
    "\n",
    "# Ouvre le jeu de données wine.tab, et afficher l’ensemble de ses attributs:\n",
    "# le nom de la classe cible\n",
    "# le nombre d’échantillons\n",
    "\n",
    "data = Orange.data.Table(\"wine\")\n",
    "print(\"\\nAttributes: \")\n",
    "print(\"Attributes:\", \", \".join(x.name for x in data.domain.attributes))\n",
    "print(\"\\nle nom de la classe cible: \")\n",
    "print(\"Class:\", data.domain.class_var.name)\n",
    "print(\"\\nle nombre d’échantillons: \")\n",
    "print(\"Data instances\", len(data))"
   ]
  },
  {
   "cell_type": "code",
   "execution_count": 9,
   "metadata": {
    "scrolled": true
   },
   "outputs": [
    {
     "name": "stdout",
     "output_type": "stream",
     "text": [
      "Accuracy: [0.94382022 0.97191011]\n",
      "AUC: [0.98983603 0.99815419]\n"
     ]
    }
   ],
   "source": [
    "# instance de la classe objet Orange.classification.TreeLearner pour\n",
    "# apprendre un classifieur basé sur un arbre de décision\n",
    "\n",
    "lr = Orange.classification.LogisticRegressionLearner()\n",
    "rf = Orange.classification.RandomForestLearner(n_estimators=100)\n",
    "res = Orange.evaluation.CrossValidation(data, [lr, rf], k=2)\n",
    "\n",
    "print(\"Accuracy:\", Orange.evaluation.scoring.CA(res))\n",
    "print(\"AUC:\", Orange.evaluation.scoring.AUC(res))"
   ]
  },
  {
   "cell_type": "code",
   "execution_count": 10,
   "metadata": {},
   "outputs": [
    {
     "name": "stdout",
     "output_type": "stream",
     "text": [
      "{'binarize': False, 'min_samples_leaf': 1, 'min_samples_split': 2, 'sufficient_majority': 0.95, 'max_depth': 3}\n"
     ]
    }
   ],
   "source": [
    "# l’instance de classe TreeLearner\n",
    "learner = Orange.classification.tree.TreeLearner(max_depth=3)\n",
    "print(learner.params)"
   ]
  },
  {
   "cell_type": "code",
   "execution_count": 11,
   "metadata": {},
   "outputs": [],
   "source": [
    "#Pickle\n",
    "import pickle\n",
    "\n",
    "Orgpkl_filename = \"rf_model.pkcls\"\n",
    "with open ( Orgpkl_filename, 'wb') as f:\n",
    "    pickle.dump(rf, f)"
   ]
  },
  {
   "cell_type": "code",
   "execution_count": 12,
   "metadata": {},
   "outputs": [],
   "source": [
    "# Load from file\n",
    "with open(Orgpkl_filename, 'rb') as file:\n",
    "    pickle_model = pickle.load(file)"
   ]
  },
  {
   "cell_type": "code",
   "execution_count": 13,
   "metadata": {},
   "outputs": [
    {
     "name": "stdout",
     "output_type": "stream",
     "text": [
      "Accuracy : [0.98876404]\n",
      "AUC: [0.99175376]\n"
     ]
    }
   ],
   "source": [
    "import numpy as np\n",
    "\n",
    "y_actual = data.Y\n",
    "classifier = learner(data)\n",
    "y_predictions = np.array([classifier(data)])\n",
    "\n",
    "\n",
    "res = Orange.evaluation.testing.Results(data, actual = y_actual, \n",
    "                                        predicted = y_predictions)\n",
    "print (\"Accuracy :\", Orange.evaluation.scoring.CA(res))\n",
    "print (\"AUC:\", Orange.evaluation.scoring.AUC(res))"
   ]
  },
  {
   "cell_type": "code",
   "execution_count": 55,
   "metadata": {},
   "outputs": [],
   "source": [
    "#évaluer correctement la qualité de prédicteur\n",
    "data_test, data_train = Orange.evaluation.testing.sample(data, n=0.3)\n",
    "data_train.save('wine_train.tab')\n",
    "data_test.save('wine_test.tab')"
   ]
  },
  {
   "cell_type": "code",
   "execution_count": 66,
   "metadata": {},
   "outputs": [
    {
     "name": "stdout",
     "output_type": "stream",
     "text": [
      "logistic regression:\n",
      "Accuracy: 0.9433962264150944\n",
      "Random Forest:\n",
      "Accuracy: 0.9811320754716981\n",
      "Tree:\n",
      "Accuracy: 0.9622641509433962\n"
     ]
    }
   ],
   "source": [
    "# Diviser l'ensemble de données en ensembles de test et d'entraînement\n",
    "d_train = Orange.data.Table(\"wine_train.tab\")\n",
    "d_test = Orange.data.Table(\"wine_test.tab\")\n",
    "\n",
    "lr = Orange.classification.LogisticRegressionLearner()\n",
    "rf = Orange.classification.RandomForestLearner(n_estimators=100)\n",
    "tree = Orange.classification.tree.TreeLearner(max_depth=3)\n",
    "\n",
    "lr_classifier = lr(d_train)\n",
    "#prédiction en test\n",
    "lr_pred = lr_classifier(d_test)\n",
    "#taux de reconnaissance - concordance obsv. vs. préd.\n",
    "print(\"logistic regression:\")\n",
    "print(\"Accuracy:\", np.mean(d_test.Y == lr_pred))\n",
    "\n",
    "rf_classifier = rf(d_train)\n",
    "#prédiction en test\n",
    "rf_pred = rf_classifier(d_test)\n",
    "#taux de reconnaissance - concordance obsv. vs. préd.\n",
    "print(\"Random Forest:\")\n",
    "print(\"Accuracy:\", np.mean(d_test.Y == rf_pred))\n",
    "\n",
    "tree_classifier = tree(d_train)\n",
    "#prédiction en test\n",
    "tree_pred = tree_classifier(d_test)\n",
    "#taux de reconnaissance - concordance obsv. vs. préd.\n",
    "print(\"Tree:\")\n",
    "print(\"Accuracy:\", np.mean(d_test.Y == tree_pred))"
   ]
  },
  {
   "cell_type": "markdown",
   "metadata": {},
   "source": [
    "## Utilisation de la bibliothèque scikit-learn"
   ]
  },
  {
   "cell_type": "markdown",
   "metadata": {},
   "source": [
    "##### La bibliothèque Orange repose sur l’utilisation d’une autre bibliothèque réputée en apprentissage automatique : scikit-learn. Vous allez reproduire, en utilisant non plus la bibliothèque Orange, mais uniquement scikit-learn, le test de performance que vous aviez réalisé sur le jeu de données heart-disease. Vous aurez besoin de charger le fichier heart-disease.tab ; nous vous proposons de le faire à l’aide de la bibliothèque pandas"
   ]
  },
  {
   "cell_type": "code",
   "execution_count": 14,
   "metadata": {},
   "outputs": [],
   "source": [
    "import pandas as pd\n",
    "import sklearn\n",
    "\n",
    "def orange_loadtab(path):\n",
    "    \"\"\" usage: X, y = orange_loadtab(path)\"\"\"\n",
    "    data = pd.read_table(path)\n",
    "    dtypes = data.values [0,:]\n",
    "    data = data.drop (index =0)\n",
    "    data = data.dropna()\n",
    "    \n",
    "    for attribute, dtype in zip( data.columns, dtypes):\n",
    "        if dtype == 'continuous':\n",
    "            data = data.astype ({ attribute:np.float })\n",
    "        else :\n",
    "            encoder = sklearn.preprocessing.LabelEncoder()\n",
    "            data[attribute] = encoder.fit_transform(data[attribute])\n",
    "    return data.values [:,:-1], data.values [:,-1]"
   ]
  },
  {
   "cell_type": "code",
   "execution_count": 15,
   "metadata": {},
   "outputs": [],
   "source": [
    "from sklearn.pipeline import make_pipeline\n",
    "from sklearn.preprocessing import StandardScaler\n",
    "from sklearn.model_selection import train_test_split\n",
    "from sklearn.model_selection import RepeatedStratifiedKFold\n",
    "from sklearn.model_selection import cross_val_score\n",
    "from sklearn import metrics\n",
    "from numpy import mean\n",
    "\n",
    "X, y = orange_loadtab(\"heart-disease.tab\")\n",
    "\n",
    "#TEST\n",
    "#X_train, X_test, y_train, y_test = train_test_split(X, y, test_size=0.33)"
   ]
  },
  {
   "cell_type": "code",
   "execution_count": 19,
   "metadata": {},
   "outputs": [
    {
     "name": "stdout",
     "output_type": "stream",
     "text": [
      "SVM Accuracy: 0.6736723163841807\n"
     ]
    }
   ],
   "source": [
    "## SVM\n",
    "from sklearn import svm\n",
    "## les paramètres de classifieur SVM de sorte qu’il \n",
    "# utilise d’astuce du noyau\n",
    "\n",
    "clf = svm.SVC(kernel='rbf', C=1, random_state=42)\n",
    "scores = cross_val_score(clf, X, y, cv=5)\n",
    "print(\"SVM Accuracy:\",scores.mean())"
   ]
  },
  {
   "cell_type": "code",
   "execution_count": 98,
   "metadata": {},
   "outputs": [
    {
     "name": "stdout",
     "output_type": "stream",
     "text": [
      "AdaBoost Accuracy:  0.7936911487758948\n"
     ]
    }
   ],
   "source": [
    "#AdaBoost\n",
    "from sklearn.ensemble import AdaBoostClassifier\n",
    "abc = AdaBoostClassifier(n_estimators=50, learning_rate=1)\n",
    "\n",
    "model = AdaBoostClassifier()\n",
    "cv = RepeatedStratifiedKFold(n_splits=5, n_repeats=3, random_state=1)\n",
    "n_scores = cross_val_score(model, X, y, scoring='accuracy', \n",
    "                           cv=cv, n_jobs=-1, error_score='raise')\n",
    "print('AdaBoost Accuracy: ',mean(n_scores))"
   ]
  },
  {
   "cell_type": "code",
   "execution_count": 100,
   "metadata": {},
   "outputs": [
    {
     "name": "stdout",
     "output_type": "stream",
     "text": [
      "RNA Accuracy: 0.6257627118644067\n"
     ]
    }
   ],
   "source": [
    "#réseaux de neurones artificiels\n",
    "from sklearn.neural_network import MLPClassifier\n",
    "\n",
    "RNA = MLPClassifier(solver='lbfgs', alpha=1e-5,\n",
    "                    hidden_layer_sizes=(5, 2), random_state=1)\n",
    "scores = cross_val_score(RNA, X, y, cv=5)\n",
    "print(\"RNA Accuracy:\",scores.mean())"
   ]
  },
  {
   "cell_type": "code",
   "execution_count": 16,
   "metadata": {},
   "outputs": [
    {
     "name": "stdout",
     "output_type": "stream",
     "text": [
      "Arbre de décision Accuracy: 0.7506779661016949\n"
     ]
    }
   ],
   "source": [
    "# arbre de décision\n",
    "from sklearn.tree import DecisionTreeClassifier\n",
    "\n",
    "dt = DecisionTreeClassifier()\n",
    "dt.fit(X, y)\n",
    "scores = cross_val_score(dt, X, y, cv=5)\n",
    "print(\"Arbre de décision Accuracy:\",scores.mean())"
   ]
  },
  {
   "cell_type": "code",
   "execution_count": 17,
   "metadata": {},
   "outputs": [
    {
     "name": "stdout",
     "output_type": "stream",
     "text": [
      "forêts d’arbres Accuracy: 0.7370056497175141\n"
     ]
    }
   ],
   "source": [
    "# forêts d’arbres décisionnels\n",
    "from sklearn.ensemble import RandomForestClassifier\n",
    "\n",
    "rf = DecisionTreeClassifier()\n",
    "rf.fit(X, y)\n",
    "scores = cross_val_score(rf, X, y, cv=5)\n",
    "print(\"forêts d’arbres Accuracy:\",scores.mean())"
   ]
  },
  {
   "cell_type": "code",
   "execution_count": 20,
   "metadata": {},
   "outputs": [
    {
     "name": "stdout",
     "output_type": "stream",
     "text": [
      "SVM Accuracy: 0.8382485875706216\n"
     ]
    }
   ],
   "source": [
    "## les paramètres de classifieur SVM de sorte qu’il \n",
    "# n’utilise pas d’astuce du noyau\n",
    "from sklearn import svm\n",
    "\n",
    "clf = svm.SVC(kernel='linear', C=1, random_state=42)\n",
    "scores = cross_val_score(clf, X, y, cv=5)\n",
    "print(\"SVM Accuracy:\",scores.mean())"
   ]
  }
 ],
 "metadata": {
  "kernelspec": {
   "display_name": "Python 3",
   "language": "python",
   "name": "python3"
  },
  "language_info": {
   "codemirror_mode": {
    "name": "ipython",
    "version": 3
   },
   "file_extension": ".py",
   "mimetype": "text/x-python",
   "name": "python",
   "nbconvert_exporter": "python",
   "pygments_lexer": "ipython3",
   "version": "3.8.3"
  }
 },
 "nbformat": 4,
 "nbformat_minor": 4
}
